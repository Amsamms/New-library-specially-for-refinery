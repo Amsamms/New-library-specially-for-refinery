{
 "cells": [
  {
   "cell_type": "code",
   "execution_count": null,
   "id": "1c5aca91",
   "metadata": {},
   "outputs": [],
   "source": [
    "import process_engineering"
   ]
  }
 ],
 "metadata": {
  "kernelspec": {
   "display_name": "depi_project_3.12",
   "language": "python",
   "name": "python3"
  },
  "language_info": {
   "name": "python",
   "version": "3.12.7"
  }
 },
 "nbformat": 4,
 "nbformat_minor": 5
}
